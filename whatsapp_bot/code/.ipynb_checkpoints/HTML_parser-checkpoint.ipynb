{
 "cells": [
  {
   "cell_type": "code",
   "execution_count": 1,
   "metadata": {},
   "outputs": [],
   "source": [
    "from selenium import webdriver\n",
    "from selenium.webdriver.support.ui import WebDriverWait\n",
    "from selenium.webdriver.support import expected_conditions as EC\n",
    "from selenium.webdriver.common.keys import Keys\n",
    "from selenium.webdriver.common.by import By\n",
    "from bs4 import BeautifulSoup\n",
    "import sys\n",
    "import datetime\n",
    "import re\n",
    "from time import *"
   ]
  },
  {
   "cell_type": "code",
   "execution_count": 2,
   "metadata": {},
   "outputs": [
    {
     "name": "stdout",
     "output_type": "stream",
     "text": [
      "Scan the QR code and then press Enter\n"
     ]
    },
    {
     "data": {
      "text/plain": [
       "''"
      ]
     },
     "execution_count": 2,
     "metadata": {},
     "output_type": "execute_result"
    }
   ],
   "source": [
    "driver = webdriver.Chrome('/media/subhasish/Professional/git_repos/chat_bot/chromedriver_linux64/chromedriver')\n",
    "\n",
    "#link to open a site\n",
    "driver.get(\"https://web.whatsapp.com/\")\n",
    "\n",
    "input(\"Scan the QR code and then press Enter\")\n",
    "\n"
   ]
  },
  {
   "cell_type": "code",
   "execution_count": 84,
   "metadata": {},
   "outputs": [],
   "source": [
    "non_bmp_map = dict.fromkeys(range(0x10000, sys.maxunicode + 1), 0xfffd)"
   ]
  },
  {
   "cell_type": "code",
   "execution_count": 83,
   "metadata": {},
   "outputs": [],
   "source": [
    "htmlcode=(driver.page_source).encode('utf-8')\n",
    "soup = BeautifulSoup(htmlcode,features=\"html.parser\")"
   ]
  },
  {
   "cell_type": "code",
   "execution_count": 100,
   "metadata": {},
   "outputs": [],
   "source": [
    "d = soup.find_all('div', class_ = 'copyable-text')\n",
    "messages = []\n",
    "for i in range(0,len(d)):\n",
    "    s = d[i].find('span', class_ = '_3Whw5 selectable-text invisible-space copyable-text')\n",
    "    if not d[i].get('data-pre-plain-text') is None:\n",
    "        #print(\" \\n\",d[i].get('data-pre-plain-text'))\n",
    "        if not s is None:\n",
    "            #print(s.span.text)\n",
    "            messages.append([d[i].get('data-pre-plain-text'), s.span.text])"
   ]
  },
  {
   "cell_type": "code",
   "execution_count": 101,
   "metadata": {},
   "outputs": [
    {
     "data": {
      "text/plain": [
       "[['[12:14 AM, 7/11/2020] Arkaprava Sinha: ',\n",
       "  'Hyaa. Trina o bollo or ager zeus chhilo'],\n",
       " ['[12:15 AM, 7/11/2020] Arkaprava Sinha: ', 'Bollam app namate.'],\n",
       " ['[12:16 AM, 7/11/2020] Subhasish Basak: ', 'rr keo?? Riju ?? Purnendu?'],\n",
       " ['[12:16 AM, 7/11/2020] Arkaprava Sinha: ', 'Ora khelbe na'],\n",
       " ['[12:28 AM, 7/11/2020] Subhasish Basak: ', 'Oishi bollo downlead koreche'],\n",
       " ['[12:28 AM, 7/11/2020] Subhasish Basak: ', 'ok pathieasvhis??'],\n",
       " ['[12:29 AM, 7/11/2020] Arkaprava Sinha: ', '2to mail id tei pathiyechhi'],\n",
       " ['[2:25 AM, 7/11/2020] Arkaprava Sinha: ', 'load hochhe?'],\n",
       " ['[12:43 PM, 7/11/2020] Arkaprava Sinha: ', 'Aj 11:30 te gartic'],\n",
       " ['[12:01 AM, 7/12/2020] Subhasish Basak: ', 'Kokhon shuru hocche'],\n",
       " ['[12:05 AM, 7/12/2020] Arkaprava Sinha: ', 'Link pathachhi'],\n",
       " ['[12:11 AM, 7/12/2020] Arkaprava Sinha: ', 'Oi wifi kaj korchhe na.'],\n",
       " ['[12:11 AM, 7/12/2020] Arkaprava Sinha: ', 'Kal hok,'],\n",
       " ['[12:11 AM, 7/12/2020] Arkaprava Sinha: ',\n",
       "  'Boozedebi r rohon o khelbe na aj.'],\n",
       " ['[12:11 AM, 7/12/2020] Subhasish Basak: ', 'Accha'],\n",
       " ['[5:26 PM, 7/12/2020] Arkaprava Sinha: ', 'Aj khelbi?'],\n",
       " ['[5:42 PM, 7/12/2020] Subhasish Basak: ',\n",
       "  'Ami toh always in....baki der bole dekh'],\n",
       " ['[7:06 PM, 7/12/2020] Arkaprava Sinha: ', 'Ok on it.'],\n",
       " ['[7:07 PM, 7/12/2020] Subhasish Basak: ', ' \\nsoabi on ?'],\n",
       " ['[7:08 PM, 7/12/2020] Subhasish Basak: ',\n",
       "  'Oishi rr appointment paoa gelo raat er jonno??']]"
      ]
     },
     "execution_count": 101,
     "metadata": {},
     "output_type": "execute_result"
    }
   ],
   "source": [
    "messages\n"
   ]
  },
  {
   "cell_type": "code",
   "execution_count": 106,
   "metadata": {},
   "outputs": [
    {
     "data": {
      "text/plain": [
       "[['[5:42 PM, 7/12/2020] Subhasish Basak: ',\n",
       "  'Ami toh always in....baki der bole dekh'],\n",
       " ['[7:06 PM, 7/12/2020] Arkaprava Sinha: ', 'Ok on it.'],\n",
       " ['[7:07 PM, 7/12/2020] Subhasish Basak: ', ' \\nsoabi on ?'],\n",
       " ['[7:08 PM, 7/12/2020] Subhasish Basak: ',\n",
       "  'Oishi rr appointment paoa gelo raat er jonno??']]"
      ]
     },
     "execution_count": 106,
     "metadata": {},
     "output_type": "execute_result"
    }
   ],
   "source": [
    "messages[-4:]"
   ]
  },
  {
   "cell_type": "code",
   "execution_count": null,
   "metadata": {},
   "outputs": [],
   "source": []
  }
 ],
 "metadata": {
  "kernelspec": {
   "display_name": "Python 3",
   "language": "python",
   "name": "python3"
  },
  "language_info": {
   "codemirror_mode": {
    "name": "ipython",
    "version": 3
   },
   "file_extension": ".py",
   "mimetype": "text/x-python",
   "name": "python",
   "nbconvert_exporter": "python",
   "pygments_lexer": "ipython3",
   "version": "3.6.9"
  }
 },
 "nbformat": 4,
 "nbformat_minor": 2
}
